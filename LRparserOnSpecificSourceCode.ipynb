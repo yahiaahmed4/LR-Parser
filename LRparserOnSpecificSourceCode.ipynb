{
 "cells": [
  {
   "cell_type": "code",
   "execution_count": 24,
   "metadata": {},
   "outputs": [],
   "source": [
    "import nltk #Do tokens\n",
    "import re\n",
    "from tabulate import tabulate\n",
    "import numpy as np\n",
    "import pandas as pd"
   ]
  },
  {
   "cell_type": "code",
   "execution_count": 25,
   "metadata": {},
   "outputs": [
    {
     "name": "stdout",
     "output_type": "stream",
     "text": [
      "['c', '=', \"'\", 'X', \"'\", ';', 'switch', '(', 'c', ')', '{', 'case', \"'\", 'N', \"'\", ':', 'y', '=', '30', ';', 'break', ';', 'case', \"'\", 'X', \"'\", ':', 'y', '=', '60', ';', 'break', ';', 'default', ':', 'y', '=', '0', ';', 'break', ';', '}']\n"
     ]
    }
   ],
   "source": [
    "sourceCode=open(\"sourcecode.txt\").read()  #Reading Source Code\n",
    "sourceCodeTokens=nltk.wordpunct_tokenize(sourceCode) \n",
    "print(sourceCodeTokens)\n"
   ]
  },
  {
   "cell_type": "code",
   "execution_count": 26,
   "metadata": {},
   "outputs": [],
   "source": [
    "tokens_names=[] #Give each token its type\n",
    "for token in sourceCodeTokens:\n",
    "    if re.findall('switch|case|break|deafult',token):\n",
    "        tokens_names.append('keyword')\n",
    "    elif re.findall('[0-9]+',token):\n",
    "        tokens_names.append('digit')\n",
    "    elif re.findall('=',token):\n",
    "        tokens_names.append('Operator')\n",
    "    elif re.findall(\"^\\'[A-Za-z]\\'\",token):\n",
    "        tokens_names.append('string')\n",
    "    elif re.findall(\"^[A-Za-z][0-9A-Za-z]*\",token):\n",
    "        tokens_names.append('identifier')\n",
    "    elif  re.findall('\\'|(|)|;|{|}|:',token):\n",
    "        if token=='\\'':\n",
    "            tokens_names.append('single quote')\n",
    "        elif token=='(':\n",
    "            tokens_names.append('Left parenthesis')\n",
    "        elif token==')':\n",
    "            tokens_names.append('Right parenthesis')\n",
    "        elif token=='{':\n",
    "            tokens_names.append('Left brace')\n",
    "        elif token=='}':\n",
    "            tokens_names.append('Right brace')\n",
    "        elif token==';':\n",
    "            tokens_names.append('Semicolone')\n",
    "        elif token==':':\n",
    "            tokens_names.append('Colone')"
   ]
  },
  {
   "cell_type": "code",
   "execution_count": 27,
   "metadata": {},
   "outputs": [
    {
     "name": "stdout",
     "output_type": "stream",
     "text": [
      "Token    Type\n",
      "-------  -----------------\n",
      "c        identifier\n",
      "=        Operator\n",
      "'        single quote\n",
      "X        identifier\n",
      "'        single quote\n",
      ";        Semicolone\n",
      "switch   keyword\n",
      "(        Left parenthesis\n",
      "c        identifier\n",
      ")        Right parenthesis\n",
      "{        Left brace\n",
      "case     keyword\n",
      "'        single quote\n",
      "N        identifier\n",
      "'        single quote\n",
      ":        Colone\n",
      "y        identifier\n",
      "=        Operator\n",
      "30       digit\n",
      ";        Semicolone\n",
      "break    keyword\n",
      ";        Semicolone\n",
      "case     keyword\n",
      "'        single quote\n",
      "X        identifier\n",
      "'        single quote\n",
      ":        Colone\n",
      "y        identifier\n",
      "=        Operator\n",
      "60       digit\n",
      ";        Semicolone\n",
      "break    keyword\n",
      ";        Semicolone\n",
      "default  identifier\n",
      ":        Colone\n",
      "y        identifier\n",
      "=        Operator\n",
      "0        digit\n",
      ";        Semicolone\n",
      "break    keyword\n",
      ";        Semicolone\n",
      "}        Right brace\n"
     ]
    }
   ],
   "source": [
    "headers = ['Token','Type']   \n",
    "\n",
    "TokensTable = zip(sourceCodeTokens,tokens_names)\n",
    "\n",
    "print(tabulate(TokensTable, headers=headers)) #PRINTING PHASE1 OUTPUT\n",
    "\n"
   ]
  },
  {
   "cell_type": "code",
   "execution_count": 28,
   "metadata": {},
   "outputs": [],
   "source": [
    "#SWITCH-CASE CFG\n",
    "CFG_LHS=['Start','Sdash','Cdash','Ddash','statement','expression','character','digit'] \n",
    "CFG_RHS=[['statementSdash'] ,['switch(character){CdashDdash}'] , \n",
    "        ['caseexpression:statementbreak;' ,'CdashCdash'],\n",
    "        ['default:statementbreak;'] ,['character=expression;'],['\\'character\\'','digit'],['y','X','c','N'],['0','30','60']]"
   ]
  },
  {
   "cell_type": "code",
   "execution_count": 29,
   "metadata": {},
   "outputs": [
    {
     "name": "stdout",
     "output_type": "stream",
     "text": [
      "['Start']\n"
     ]
    }
   ],
   "source": [
    "#DEFINIG LISTS WE NEED\n",
    "stack=[] #daaa lbykon feeh l tokens l shghala aliha \n",
    "parserStack=[] #PARSER STACK OF LR BE PRINTED\n",
    "inputStack=[] #INPUT STACK OF LR TO BE PRINTED\n",
    "action=[] # ACTION OF LR TO BE PRINTED\n",
    "tempStack=[] # Has copy of souceCodeTokens list\n",
    "for i in sourceCodeTokens: #copying tokens\n",
    "    tempStack.append(i)\n",
    "tempStack.append(\"$\")\n",
    "\n",
    "parserStack.append(\" \") #FIRST CELL OF THE parser stack\n",
    "\n",
    "iterations=1 #btkhlene amshi men akher l stack  fe len(stack)-iterations w bfdl tzed lehad ma awsl le awlo\n",
    "counter=0 # 3dad l tokens lgowa l str\n",
    "#str,str1,str2 do the same function for diff purpose\n",
    "str=\"\" \n",
    "str1=\"\"\n",
    "str2=\"\"\n",
    "\n",
    "\n",
    "for temp in tempStack: #INITIALIZE INPUT OF INPUT STACK\n",
    "    str1=str1+temp\n",
    "inputStack.append(str1)\n",
    "tempStack.pop(0)\n",
    "\n",
    "for token in sourceCodeTokens:\n",
    "    str1=\"\"\n",
    "    stack.append(token)   #SHIFT \n",
    "\n",
    "    for temp in tempStack: #UPDATE WHAT INSIDE THE INPUT STACK\n",
    "        str1=str1+temp\n",
    "    inputStack.append(str1)\n",
    "    tempStack.pop(0)\n",
    "\n",
    "    for temp in stack: #UPDATE WHAT INSIDE THE PRASER STACK\n",
    "        str2=str2+temp\n",
    "    parserStack.append(str2)\n",
    "    str2=''\n",
    "    action.append(f'SHIFT {token}') #DO SHIFT\n",
    "\n",
    "    while True:\n",
    "        flag=False #TRUE IF THERE IS A REDUCE\n",
    "        str=stack[len(stack)-iterations]+str\n",
    "        counter+=1 \n",
    "        for index in range(len(CFG_RHS)): #LOOPING ACROSS THE CFG RHS\n",
    "            for i in range(len(CFG_RHS[index])): \n",
    "                if str==CFG_RHS[index][i]:\n",
    "                    for i in range(counter):\n",
    "                        stack.pop()  \n",
    "                    stack.append(CFG_LHS[index])\n",
    "                    for temp in stack: #for parser stack after reduce\n",
    "                        str2=str2+temp\n",
    "                    parserStack.append(str2)\n",
    "                    str2=''\n",
    "                    action.append(f'REDUCE {stack[len(stack)-1]}->{str}') #REDUCE\n",
    "                    inputStack.append(str1) #NO CHANGE\n",
    "                    #initializing variables\n",
    "                    counter=0 \n",
    "                    str=\"\"\n",
    "                    iterations=1\n",
    "                    flag=True\n",
    "                    break\n",
    "            if flag==True: #DONOT CONTINUE SEARCHING INSIDE CFG\n",
    "                break\n",
    "        if flag== False: # mdkhlsh wala 3mal pop wala append le haga (NO REDUCE)\n",
    "            if len(stack)-(iterations+1)>=0: # case1: there are still tokens inside the stack\n",
    "                iterations+=1\n",
    "            else: # case2: mfish haga tani fel stack a loop 3liha fa harg3 a shift haga\n",
    "               str=\"\"\n",
    "               iterations=1\n",
    "               counter=0\n",
    "               break\n",
    "\n",
    "\n",
    "print(stack)\n",
    "\n",
    "\n"
   ]
  },
  {
   "cell_type": "code",
   "execution_count": 30,
   "metadata": {},
   "outputs": [
    {
     "name": "stdout",
     "output_type": "stream",
     "text": [
      "ACCEPTED\n"
     ]
    }
   ],
   "source": [
    "if stack[0]=='Start' and inputStack[len(inputStack)-1]==\"$\":\n",
    "    parserStack.append(stack[0])\n",
    "    action.append('ACCEPTED')\n",
    "    print('ACCEPTED')\n",
    "else:\n",
    "    action.append('REJECTED')\n",
    "    print('REJECTED')"
   ]
  },
  {
   "cell_type": "code",
   "execution_count": 31,
   "metadata": {},
   "outputs": [
    {
     "name": "stdout",
     "output_type": "stream",
     "text": [
      "ParserStack                                                           InputStack                                                                  Action\n",
      "--------------------------------------------------------------------  --------------------------------------------------------------------------  --------------------------------------------\n",
      "                                                                      c='X';switch(c){case'N':y=30;break;case'X':y=60;break;default:y=0;break;}$  SHIFT c\n",
      "c                                                                     ='X';switch(c){case'N':y=30;break;case'X':y=60;break;default:y=0;break;}$   REDUCE character->c\n",
      "character                                                             ='X';switch(c){case'N':y=30;break;case'X':y=60;break;default:y=0;break;}$   SHIFT =\n",
      "character=                                                            'X';switch(c){case'N':y=30;break;case'X':y=60;break;default:y=0;break;}$    SHIFT '\n",
      "character='                                                           X';switch(c){case'N':y=30;break;case'X':y=60;break;default:y=0;break;}$     SHIFT X\n",
      "character='X                                                          ';switch(c){case'N':y=30;break;case'X':y=60;break;default:y=0;break;}$      REDUCE character->X\n",
      "character='character                                                  ';switch(c){case'N':y=30;break;case'X':y=60;break;default:y=0;break;}$      SHIFT '\n",
      "character='character'                                                 ;switch(c){case'N':y=30;break;case'X':y=60;break;default:y=0;break;}$       REDUCE expression->'character'\n",
      "character=expression                                                  ;switch(c){case'N':y=30;break;case'X':y=60;break;default:y=0;break;}$       SHIFT ;\n",
      "character=expression;                                                 switch(c){case'N':y=30;break;case'X':y=60;break;default:y=0;break;}$        REDUCE statement->character=expression;\n",
      "statement                                                             switch(c){case'N':y=30;break;case'X':y=60;break;default:y=0;break;}$        SHIFT switch\n",
      "statementswitch                                                       (c){case'N':y=30;break;case'X':y=60;break;default:y=0;break;}$              SHIFT (\n",
      "statementswitch(                                                      c){case'N':y=30;break;case'X':y=60;break;default:y=0;break;}$               SHIFT c\n",
      "statementswitch(c                                                     ){case'N':y=30;break;case'X':y=60;break;default:y=0;break;}$                REDUCE character->c\n",
      "statementswitch(character                                             ){case'N':y=30;break;case'X':y=60;break;default:y=0;break;}$                SHIFT )\n",
      "statementswitch(character)                                            {case'N':y=30;break;case'X':y=60;break;default:y=0;break;}$                 SHIFT {\n",
      "statementswitch(character){                                           case'N':y=30;break;case'X':y=60;break;default:y=0;break;}$                  SHIFT case\n",
      "statementswitch(character){case                                       'N':y=30;break;case'X':y=60;break;default:y=0;break;}$                      SHIFT '\n",
      "statementswitch(character){case'                                      N':y=30;break;case'X':y=60;break;default:y=0;break;}$                       SHIFT N\n",
      "statementswitch(character){case'N                                     ':y=30;break;case'X':y=60;break;default:y=0;break;}$                        REDUCE character->N\n",
      "statementswitch(character){case'character                             ':y=30;break;case'X':y=60;break;default:y=0;break;}$                        SHIFT '\n",
      "statementswitch(character){case'character'                            :y=30;break;case'X':y=60;break;default:y=0;break;}$                         REDUCE expression->'character'\n",
      "statementswitch(character){caseexpression                             :y=30;break;case'X':y=60;break;default:y=0;break;}$                         SHIFT :\n",
      "statementswitch(character){caseexpression:                            y=30;break;case'X':y=60;break;default:y=0;break;}$                          SHIFT y\n",
      "statementswitch(character){caseexpression:y                           =30;break;case'X':y=60;break;default:y=0;break;}$                           REDUCE character->y\n",
      "statementswitch(character){caseexpression:character                   =30;break;case'X':y=60;break;default:y=0;break;}$                           SHIFT =\n",
      "statementswitch(character){caseexpression:character=                  30;break;case'X':y=60;break;default:y=0;break;}$                            SHIFT 30\n",
      "statementswitch(character){caseexpression:character=30                ;break;case'X':y=60;break;default:y=0;break;}$                              REDUCE digit->30\n",
      "statementswitch(character){caseexpression:character=digit             ;break;case'X':y=60;break;default:y=0;break;}$                              REDUCE expression->digit\n",
      "statementswitch(character){caseexpression:character=expression        ;break;case'X':y=60;break;default:y=0;break;}$                              SHIFT ;\n",
      "statementswitch(character){caseexpression:character=expression;       break;case'X':y=60;break;default:y=0;break;}$                               REDUCE statement->character=expression;\n",
      "statementswitch(character){caseexpression:statement                   break;case'X':y=60;break;default:y=0;break;}$                               SHIFT break\n",
      "statementswitch(character){caseexpression:statementbreak              ;case'X':y=60;break;default:y=0;break;}$                                    SHIFT ;\n",
      "statementswitch(character){caseexpression:statementbreak;             case'X':y=60;break;default:y=0;break;}$                                     REDUCE Cdash->caseexpression:statementbreak;\n",
      "statementswitch(character){Cdash                                      case'X':y=60;break;default:y=0;break;}$                                     SHIFT case\n",
      "statementswitch(character){Cdashcase                                  'X':y=60;break;default:y=0;break;}$                                         SHIFT '\n",
      "statementswitch(character){Cdashcase'                                 X':y=60;break;default:y=0;break;}$                                          SHIFT X\n",
      "statementswitch(character){Cdashcase'X                                ':y=60;break;default:y=0;break;}$                                           REDUCE character->X\n",
      "statementswitch(character){Cdashcase'character                        ':y=60;break;default:y=0;break;}$                                           SHIFT '\n",
      "statementswitch(character){Cdashcase'character'                       :y=60;break;default:y=0;break;}$                                            REDUCE expression->'character'\n",
      "statementswitch(character){Cdashcaseexpression                        :y=60;break;default:y=0;break;}$                                            SHIFT :\n",
      "statementswitch(character){Cdashcaseexpression:                       y=60;break;default:y=0;break;}$                                             SHIFT y\n",
      "statementswitch(character){Cdashcaseexpression:y                      =60;break;default:y=0;break;}$                                              REDUCE character->y\n",
      "statementswitch(character){Cdashcaseexpression:character              =60;break;default:y=0;break;}$                                              SHIFT =\n",
      "statementswitch(character){Cdashcaseexpression:character=             60;break;default:y=0;break;}$                                               SHIFT 60\n",
      "statementswitch(character){Cdashcaseexpression:character=60           ;break;default:y=0;break;}$                                                 REDUCE digit->60\n",
      "statementswitch(character){Cdashcaseexpression:character=digit        ;break;default:y=0;break;}$                                                 REDUCE expression->digit\n",
      "statementswitch(character){Cdashcaseexpression:character=expression   ;break;default:y=0;break;}$                                                 SHIFT ;\n",
      "statementswitch(character){Cdashcaseexpression:character=expression;  break;default:y=0;break;}$                                                  REDUCE statement->character=expression;\n",
      "statementswitch(character){Cdashcaseexpression:statement              break;default:y=0;break;}$                                                  SHIFT break\n",
      "statementswitch(character){Cdashcaseexpression:statementbreak         ;default:y=0;break;}$                                                       SHIFT ;\n",
      "statementswitch(character){Cdashcaseexpression:statementbreak;        default:y=0;break;}$                                                        REDUCE Cdash->caseexpression:statementbreak;\n",
      "statementswitch(character){CdashCdash                                 default:y=0;break;}$                                                        REDUCE Cdash->CdashCdash\n",
      "statementswitch(character){Cdash                                      default:y=0;break;}$                                                        SHIFT default\n",
      "statementswitch(character){Cdashdefault                               :y=0;break;}$                                                               SHIFT :\n",
      "statementswitch(character){Cdashdefault:                              y=0;break;}$                                                                SHIFT y\n",
      "statementswitch(character){Cdashdefault:y                             =0;break;}$                                                                 REDUCE character->y\n",
      "statementswitch(character){Cdashdefault:character                     =0;break;}$                                                                 SHIFT =\n",
      "statementswitch(character){Cdashdefault:character=                    0;break;}$                                                                  SHIFT 0\n",
      "statementswitch(character){Cdashdefault:character=0                   ;break;}$                                                                   REDUCE digit->0\n",
      "statementswitch(character){Cdashdefault:character=digit               ;break;}$                                                                   REDUCE expression->digit\n",
      "statementswitch(character){Cdashdefault:character=expression          ;break;}$                                                                   SHIFT ;\n",
      "statementswitch(character){Cdashdefault:character=expression;         break;}$                                                                    REDUCE statement->character=expression;\n",
      "statementswitch(character){Cdashdefault:statement                     break;}$                                                                    SHIFT break\n",
      "statementswitch(character){Cdashdefault:statementbreak                ;}$                                                                         SHIFT ;\n",
      "statementswitch(character){Cdashdefault:statementbreak;               }$                                                                          REDUCE Ddash->default:statementbreak;\n",
      "statementswitch(character){CdashDdash                                 }$                                                                          SHIFT }\n",
      "statementswitch(character){CdashDdash}                                $                                                                           REDUCE Sdash->switch(character){CdashDdash}\n",
      "statementSdash                                                        $                                                                           REDUCE Start->statementSdash\n",
      "Start                                                                 $                                                                           ACCEPTED\n"
     ]
    }
   ],
   "source": [
    "headers = ['ParserStack','InputStack','Action']   \n",
    "\n",
    "table = zip(parserStack,inputStack,action)\n",
    "\n",
    "print(tabulate(table, headers=headers))\n"
   ]
  },
  {
   "cell_type": "code",
   "execution_count": 32,
   "metadata": {},
   "outputs": [
    {
     "name": "stdout",
     "output_type": "stream",
     "text": [
      "['c', '=', \"'\", 'X', \"'\"]\n",
      "['switch', '(', 'c', ')']\n",
      "[\"'\", 'N', \"'\", ':', 'y', '=', '30', ';', 'break', \"'\", 'X', \"'\", ':', 'y', '=', '60', ';', 'break', ':', 'y', '=', '0', ';', 'break']\n"
     ]
    }
   ],
   "source": [
    "statment=[]\n",
    "body=[]\n",
    "switch=[]\n",
    "cc=[]\n",
    "case1=[]\n",
    "case2=[]\n",
    "default=[]\n",
    "tata=[]\n",
    "mylist=[]\n",
    "mylistup=[]\n",
    "for x in range(0,len(sourceCodeTokens)):\n",
    "    if sourceCodeTokens[x]!=\"switch\":\n",
    "        statment.append(sourceCodeTokens[x]) # ba7ot el code kolo fyh list 3alshan a2asemo w a7oto fyh lists gowa\n",
    "    else:\n",
    "        switchindex=x #ba7ot el index beta3 el switch fyh variable 3alshan abda2 meno ba3d keda\n",
    "        break\n",
    "# for x in sourceCodeTokens:\n",
    "#     d=sourceCodeTokens.count(\"case\") # ba3raf 3adad el cases ely 3andy\n",
    "for c in range(switchindex,len(sourceCodeTokens)):\n",
    "    body.append(sourceCodeTokens[c]) #bageeb el code kolo men 3and el switch\n",
    "for c in range(switchindex,switchindex+4):\n",
    "    switch.append(sourceCodeTokens[c])\n",
    "for c in range(switchindex-2,len(body)):\n",
    "    cc.append(body[c]) # bageeb el code kolo men ta7t el switch\n",
    "for x in statment:\n",
    "    if x==';': # removing the ;\n",
    "        statment.remove(x)\n",
    "for x in cc: \n",
    "    if x=='{': # removing {\n",
    "        cc.remove(x)\n",
    "for x in cc:\n",
    "    if x=='}': #removing }\n",
    "        cc.remove(x)\n",
    "for x in range(0,len(cc)):\n",
    "    if cc[x] !=\"break\":\n",
    "        tata.append(cc[x+1])  #keda e7na hena 5adna awel statment men el cases of hya dynamic\n",
    "    else:\n",
    "        t=x\n",
    "        break\n",
    "for x in range(t+2,len(cc)):\n",
    "    if cc[x] !=\"break\":\n",
    "        tata.append(cc[x+1]) #keda ana gebt el case el 2\n",
    "    else:\n",
    "        d=x # ba3raf ana we2ft feeen 3alshan abda2 el mara ely menha \n",
    "        break\n",
    "for x in range(d+2,len(cc)-1):\n",
    "    tata.append(cc[x]) # gebt a5er case ely hya el default\n",
    "for x in range(0,len(tata)):\n",
    "    if tata[x]!='case':\n",
    "        mylist.append(tata[x])\n",
    "tata.remove(':')\n",
    "tata.remove('default')\n",
    "tata.remove(':')\n",
    "mylist.remove('default')\n",
    "for x in range(0,len(mylist)):\n",
    "    if mylist[x]!=';':\n",
    "        mylistup.append(mylist[x])\n",
    "# for x in range(0,len(mylist)):\n",
    "#     if mylist[x]==':':\n",
    "#         mylist.remove(mylist[x])\n",
    "print(statment)\n",
    "print(switch)\n",
    "print(mylist)\n",
    "# all=[case1,case2,default]\n",
    "# print(all)"
   ]
  },
  {
   "cell_type": "code",
   "execution_count": 33,
   "metadata": {},
   "outputs": [
    {
     "name": "stdout",
     "output_type": "stream",
     "text": [
      "=\n",
      "['=', 'c', \"'\", 'X', \"'\"]\n"
     ]
    }
   ],
   "source": [
    "z=''\n",
    "for x in range(0,len(statment)): # ba-search 3ala el equal w ba7otaha fyh el awal \n",
    "    if statment[x]=='=':\n",
    "        z='='\n",
    "if z=='=':\n",
    "    statment.remove(\"=\")\n",
    "    statment.insert(0,'=')\n",
    "print(z)\n",
    "print(statment)"
   ]
  },
  {
   "cell_type": "code",
   "execution_count": 34,
   "metadata": {},
   "outputs": [
    {
     "name": "stdout",
     "output_type": "stream",
     "text": [
      "( = c X ) \n"
     ]
    }
   ],
   "source": [
    "statmentstr_organized=''\n",
    "statmento=[]\n",
    "# for x in range(0,len(statment)):\n",
    "#         statment.insert(0,'(')\n",
    "statment.insert(0,'(')\n",
    "statment.insert(len(statment),')')# ba7it brackets 3alshan el library betegberny asta3'dem brackets fah bazthaa\n",
    "for x in range(0,len(statment)):\n",
    "        if statment[x]!=\"'\":# bensheel el ' 3alshan 3ayzha men 3'erha 3alshan el syntax tree\n",
    "                statmento.append(statment[x])\n",
    "for x in statmento:\n",
    "        statmentstr_organized+=x+' '\n",
    "print(statmentstr_organized)"
   ]
  },
  {
   "cell_type": "code",
   "execution_count": 35,
   "metadata": {},
   "outputs": [
    {
     "name": "stdout",
     "output_type": "stream",
     "text": [
      "['c']\n"
     ]
    }
   ],
   "source": [
    "switch.remove('switch')\n",
    "switch.remove('(')\n",
    "switch.remove(')') # basheel el switch w el brackets men el list\n",
    "print(switch)"
   ]
  },
  {
   "cell_type": "code",
   "execution_count": 36,
   "metadata": {},
   "outputs": [
    {
     "name": "stdout",
     "output_type": "stream",
     "text": [
      "  c\n"
     ]
    }
   ],
   "source": [
    "switchstr=' '\n",
    "for x in switch:\n",
    "        switchstr+=' '+x # ba7awel el value lyh list \n",
    "print(switchstr)"
   ]
  },
  {
   "cell_type": "code",
   "execution_count": 37,
   "metadata": {},
   "outputs": [
    {
     "name": "stdout",
     "output_type": "stream",
     "text": [
      "N\n",
      "['=', 'y', '30']\n"
     ]
    }
   ],
   "source": [
    "mylist_organized1=[]\n",
    "organized1=[]\n",
    "cond1=[]\n",
    "for x in range(0,len(mylist)):\n",
    "        if mylist[x+1]!='break':\n",
    "                if mylist[x]!=';':# 3alshan a5od kol 7aga gowa el case le7ad el break\n",
    "                        mylist_organized1.append(mylist[x])\n",
    "        else:\n",
    "                a1=x\n",
    "                break\n",
    "mylist_organized1.remove(':')# bashel el :\n",
    "for x in range(0,len(mylist_organized1)):\n",
    "        if mylist_organized1[x]!=\"'\":# bashel el '\n",
    "                organized1.append(mylist_organized1[x])\n",
    "switch_value1=organized1[0] # ba5od el value el awal 3alshan dah el value beta3 el case\n",
    "organized1.remove(switch_value1) # ba3melo remove 3alshan mesh 3ayzo\n",
    "z=''\n",
    "for x in range(0,len(organized1)): # ba-search 3ala el equal w ba7otaha fyh el awal \n",
    "    if organized1[x]=='=':\n",
    "        z='='\n",
    "if z=='=':\n",
    "    organized1.remove(\"=\")\n",
    "    organized1.insert(0,'=') # bashoof feen el = w ba3deen a5alyha fel awal \n",
    "cond1=[switch_value1]\n",
    "cond1.insert(0,switchstr)\n",
    "cond1.insert(0,'=')\n",
    "print(switch_value1)\n",
    "print(organized1)"
   ]
  },
  {
   "cell_type": "code",
   "execution_count": 38,
   "metadata": {},
   "outputs": [
    {
     "name": "stdout",
     "output_type": "stream",
     "text": [
      "  ( = y 30 )\n"
     ]
    }
   ],
   "source": [
    "bracketo=' '\n",
    "braktito=[]\n",
    "organized1.insert(0,'(')\n",
    "organized1.insert(len(organized1),')')# ba7it brackets 3alshan el library betegberny asta3'dem brackets fah bazthaa\n",
    "for x in range(0,len(organized1)):\n",
    "        if organized1[x]!=\"'\":# bensheel el ' 3alshan 3ayzha men 3'erha 3alshan el syntax tree\n",
    "               braktito.append(organized1[x])\n",
    "for x in braktito:\n",
    "        bracketo+=' '+x #ba7awelha string\n",
    "print(bracketo) # el value beta3 el condition ely fyh case1"
   ]
  },
  {
   "cell_type": "code",
   "execution_count": 39,
   "metadata": {},
   "outputs": [
    {
     "name": "stdout",
     "output_type": "stream",
     "text": [
      "  ( =   c N )\n"
     ]
    }
   ],
   "source": [
    "# hena ba3mel el el condition beta3 awel case bazawed el 7arf beta3 el switch w el 7arf beta3 el case w el = sign\n",
    "# w ba3den 7awetaha string 3alshan teb2a 3ala el form\n",
    "condtio1=' '\n",
    "condtion1=[]\n",
    "condtion1=[switch_value1]\n",
    "condtion1.insert(0,switchstr)\n",
    "condtion1.insert(0,'=')\n",
    "condtion1.insert(0,'(')\n",
    "condtion1.insert(len(condtion1),')')\n",
    "for x in condtion1:\n",
    "        condtio1+=' '+x\n",
    "print(condtio1)"
   ]
  },
  {
   "cell_type": "code",
   "execution_count": 40,
   "metadata": {},
   "outputs": [
    {
     "name": "stdout",
     "output_type": "stream",
     "text": [
      "['=', 'y', '60']\n",
      "X\n"
     ]
    }
   ],
   "source": [
    "mylist_organized2=[]\n",
    "organized2=[]\n",
    "cond2=[]\n",
    "for x in range(a1+2,len(mylist)):\n",
    "        if mylist[x+1]!='break':\n",
    "                if mylist[x]!=';':\n",
    "                        mylist_organized2.append(mylist[x])\n",
    "        else:\n",
    "                a2=x\n",
    "                break\n",
    "mylist_organized2.remove(':')\n",
    "for x in range(0,len(mylist_organized2)):\n",
    "        if mylist_organized2[x]!=\"'\":\n",
    "                organized2.append(mylist_organized2[x])\n",
    "switch_value2=organized2[0]\n",
    "organized2.remove(switch_value2)\n",
    "for x in range(0,len(organized2)): # ba-search 3ala el equal w ba7otaha fyh el awal \n",
    "    if organized2[x]=='=':\n",
    "        z='='\n",
    "if z=='=':\n",
    "    organized2.remove(\"=\")\n",
    "    organized2.insert(0,'=') # bashoof feen el = w ba3deen a5alyha fel awal \n",
    "print(organized2)\n",
    "print(switch_value2)"
   ]
  },
  {
   "cell_type": "code",
   "execution_count": 41,
   "metadata": {},
   "outputs": [
    {
     "name": "stdout",
     "output_type": "stream",
     "text": [
      "  ( = y 60 )\n"
     ]
    }
   ],
   "source": [
    "bracketo1=' '\n",
    "braktito1=[]\n",
    "organized2.insert(0,'(')\n",
    "organized2.insert(len(organized2),')')# ba7it brackets 3alshan el library betegberny asta3'dem brackets fah bazthaa\n",
    "for x in range(0,len(organized2)):\n",
    "        if organized1[x]!=\"'\":# bensheel el ' 3alshan 3ayzha men 3'erha 3alshan el syntax tree\n",
    "               braktito1.append(organized2[x])\n",
    "for x in braktito1:\n",
    "        bracketo1+=' '+x #ba7awelha string\n",
    "print(bracketo1) # el value beta3 el condition ely fyh case1"
   ]
  },
  {
   "cell_type": "code",
   "execution_count": 42,
   "metadata": {},
   "outputs": [
    {
     "name": "stdout",
     "output_type": "stream",
     "text": [
      "  ( =   c X )\n"
     ]
    }
   ],
   "source": [
    "# hena ba3mel el el condition beta3 awel case bazawed el 7arf beta3 el switch w el 7arf beta3 el case w el = sign\n",
    "# w ba3den 7awetaha string 3alshan teb2a 3ala el form\n",
    "condtio2=' '\n",
    "condtion2=[]\n",
    "condtion2=[switch_value2]\n",
    "condtion2.insert(0,switchstr)\n",
    "condtion2.insert(0,'=')\n",
    "condtion2.insert(0,'(')\n",
    "condtion2.insert(len(condtion2),')')\n",
    "for x in condtion2:\n",
    "        condtio2+=' '+x\n",
    "print(condtio2)"
   ]
  },
  {
   "cell_type": "code",
   "execution_count": 43,
   "metadata": {},
   "outputs": [
    {
     "name": "stdout",
     "output_type": "stream",
     "text": [
      "['y', '=', '0']\n"
     ]
    }
   ],
   "source": [
    "myliststr3=' '\n",
    "mylist_default=[]\n",
    "for x in range(a2+2,len(mylist)):\n",
    "        if mylist[x+1]!='break':# bageeb a5er case ely hya el default\n",
    "                if mylist[x]!=';':\n",
    "                        mylist_default.append(mylist[x])\n",
    "        else:\n",
    "                break\n",
    "mylist_default.remove(':')\n",
    "print(mylist_default)\n"
   ]
  },
  {
   "cell_type": "code",
   "execution_count": 44,
   "metadata": {},
   "outputs": [
    {
     "name": "stdout",
     "output_type": "stream",
     "text": [
      "['=', 'y', '0']\n",
      "  ( = y 0 )\n"
     ]
    }
   ],
   "source": [
    "myliststr3=' '\n",
    "for x in range(0,len(mylist_default)): # ba-search 3ala el equal w ba7otaha fyh el awal \n",
    "    if mylist_default[x]=='=':\n",
    "        z='='\n",
    "if z=='=':\n",
    "    mylist_default.remove(\"=\")\n",
    "    mylist_default.insert(0,'=') # bashoof feen el = w ba3deen a5alyha fel awal \n",
    "print(mylist_default)\n",
    "mylist_default.insert(0,'(')\n",
    "mylist_default.insert(len(mylist_default),')')# ba7it brackets 3alshan el library betegberny asta3'dem brackets fah bazthaa\n",
    "for x in mylist_default:\n",
    "        myliststr3+=' '+x\n",
    "print(myliststr3)"
   ]
  },
  {
   "cell_type": "code",
   "execution_count": 45,
   "metadata": {},
   "outputs": [],
   "source": [
    "if stack[0]=='Start' and inputStack[len(inputStack)-1]==\"$\":\n",
    "    z='(code'+statmentstr_organized+'(switch '+switchstr+' (body ( case '+switch_value1+' '+bracketo+' break ) (case '+switch_value2+' '+bracketo1+' break) (default '+myliststr3+' break))))'\n",
    "    omar=nltk.Tree.fromstring(z)\n",
    "    omar.draw()\n",
    "else:\n",
    "    print('REJECTED')"
   ]
  }
 ],
 "metadata": {
  "kernelspec": {
   "display_name": "Python 3",
   "language": "python",
   "name": "python3"
  },
  "language_info": {
   "codemirror_mode": {
    "name": "ipython",
    "version": 3
   },
   "file_extension": ".py",
   "mimetype": "text/x-python",
   "name": "python",
   "nbconvert_exporter": "python",
   "pygments_lexer": "ipython3",
   "version": "3.10.9"
  },
  "orig_nbformat": 4,
  "vscode": {
   "interpreter": {
    "hash": "1edc62f120aaeff0a4868739404cae12e6eacc77759be20fcf0474be9ee58eeb"
   }
  }
 },
 "nbformat": 4,
 "nbformat_minor": 2
}
